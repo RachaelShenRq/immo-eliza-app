{
 "cells": [
  {
   "cell_type": "code",
   "execution_count": 1,
   "metadata": {},
   "outputs": [],
   "source": [
    "import pandas as pd"
   ]
  },
  {
   "cell_type": "code",
   "execution_count": 2,
   "metadata": {},
   "outputs": [],
   "source": [
    "df = pd.read_json('final_dataset.json')\n",
    "df.to_csv('final_dataset.csv')\n",
    "\n",
    "df = pd.read_csv('final_dataset.csv')\n"
   ]
  },
  {
   "cell_type": "code",
   "execution_count": 3,
   "metadata": {},
   "outputs": [
    {
     "name": "stdout",
     "output_type": "stream",
     "text": [
      "<class 'pandas.core.frame.DataFrame'>\n",
      "RangeIndex: 118714 entries, 0 to 118713\n",
      "Data columns (total 33 columns):\n",
      " #   Column             Non-Null Count   Dtype  \n",
      "---  ------             --------------   -----  \n",
      " 0   Unnamed: 0         118714 non-null  int64  \n",
      " 1   Url                118714 non-null  object \n",
      " 2   BathroomCount      109112 non-null  float64\n",
      " 3   BedroomCount       118714 non-null  int64  \n",
      " 4   ConstructionYear   68898 non-null   float64\n",
      " 5   Country            118714 non-null  object \n",
      " 6   District           118707 non-null  object \n",
      " 7   Fireplace          4123 non-null    float64\n",
      " 8   FloodingZone       58342 non-null   object \n",
      " 9   Furnished          30325 non-null   float64\n",
      " 10  Garden             22503 non-null   float64\n",
      " 11  GardenArea         22503 non-null   float64\n",
      " 12  Kitchen            67134 non-null   object \n",
      " 13  LivingArea         104539 non-null  float64\n",
      " 14  Locality           118709 non-null  object \n",
      " 15  MonthlyCharges     13650 non-null   float64\n",
      " 16  NumberOfFacades    76942 non-null   float64\n",
      " 17  PEB                85074 non-null   object \n",
      " 18  PostalCode         118714 non-null  int64  \n",
      " 19  Price              118714 non-null  int64  \n",
      " 20  PropertyId         118714 non-null  int64  \n",
      " 21  Province           118707 non-null  object \n",
      " 22  Region             118707 non-null  object \n",
      " 23  RoomCount          32916 non-null   float64\n",
      " 24  ShowerCount        57127 non-null   float64\n",
      " 25  StateOfBuilding    81622 non-null   object \n",
      " 26  SubtypeOfProperty  118714 non-null  object \n",
      " 27  SurfaceOfPlot      58237 non-null   float64\n",
      " 28  SwimmingPool       40358 non-null   float64\n",
      " 29  Terrace            68344 non-null   float64\n",
      " 30  ToiletCount        96441 non-null   float64\n",
      " 31  TypeOfProperty     118714 non-null  int64  \n",
      " 32  TypeOfSale         118714 non-null  object \n",
      "dtypes: float64(15), int64(6), object(12)\n",
      "memory usage: 29.9+ MB\n"
     ]
    }
   ],
   "source": [
    "df.info()"
   ]
  },
  {
   "cell_type": "code",
   "execution_count": 4,
   "metadata": {},
   "outputs": [
    {
     "data": {
      "text/plain": [
       "array(['Brugge', 'Tournai', 'Veurne', 'Hasselt', 'Brussels', 'Nivelles',\n",
       "       'Mechelen', 'Halle-Vilvoorde', 'Sint-Niklaas', 'Oostend',\n",
       "       'Antwerp', 'Ieper', 'Mons', 'Namur', 'Philippeville', 'Soignies',\n",
       "       'Leuven', 'Charleroi', 'Liège', 'Maaseik', 'Verviers', 'Aalst',\n",
       "       'Tongeren', 'Marche-en-Famenne', 'Kortrijk', 'Gent', 'Eeklo',\n",
       "       'Diksmuide', 'Dendermonde', 'Waremme', 'Huy', 'Oudenaarde',\n",
       "       'Dinant', 'Neufchâteau', 'Mouscron', 'Tielt', 'Roeselare',\n",
       "       'Turnhout', 'Thuin', 'Arlon', 'Virton', 'Ath', 'Bastogne', nan],\n",
       "      dtype=object)"
      ]
     },
     "execution_count": 4,
     "metadata": {},
     "output_type": "execute_result"
    }
   ],
   "source": [
    "df[\"District\"].unique()"
   ]
  },
  {
   "cell_type": "code",
   "execution_count": 5,
   "metadata": {},
   "outputs": [
    {
     "data": {
      "text/plain": [
       "array(['West Flanders', 'Hainaut', 'Limburg', 'Brussels',\n",
       "       'Walloon Brabant', 'Antwerp', 'Flemish Brabant', 'East Flanders',\n",
       "       'Namur', 'Liège', 'Luxembourg', nan], dtype=object)"
      ]
     },
     "execution_count": 5,
     "metadata": {},
     "output_type": "execute_result"
    }
   ],
   "source": [
    "df[\"Province\"].unique()"
   ]
  },
  {
   "cell_type": "code",
   "execution_count": 6,
   "metadata": {},
   "outputs": [
    {
     "data": {
      "text/plain": [
       "array(['Flanders', 'Wallonie', 'Brussels', nan], dtype=object)"
      ]
     },
     "execution_count": 6,
     "metadata": {},
     "output_type": "execute_result"
    }
   ],
   "source": [
    "df[\"Region\"].unique()"
   ]
  },
  {
   "cell_type": "code",
   "execution_count": 8,
   "metadata": {},
   "outputs": [
    {
     "data": {
      "text/plain": [
       "array([8380, 7500, 8370, ..., 6831, 4161, 6834])"
      ]
     },
     "execution_count": 8,
     "metadata": {},
     "output_type": "execute_result"
    }
   ],
   "source": [
    "df[\"PostalCode\"].unique()"
   ]
  }
 ],
 "metadata": {
  "kernelspec": {
   "display_name": "Python 3",
   "language": "python",
   "name": "python3"
  },
  "language_info": {
   "codemirror_mode": {
    "name": "ipython",
    "version": 3
   },
   "file_extension": ".py",
   "mimetype": "text/x-python",
   "name": "python",
   "nbconvert_exporter": "python",
   "pygments_lexer": "ipython3",
   "version": "3.12.4"
  }
 },
 "nbformat": 4,
 "nbformat_minor": 2
}
